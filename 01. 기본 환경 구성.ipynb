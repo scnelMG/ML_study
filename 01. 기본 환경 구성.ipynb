{
 "cells": [
  {
   "cell_type": "markdown",
   "id": "18e53846",
   "metadata": {},
   "source": [
    "# 필요 라이브러리 설치 및 버전 확인"
   ]
  },
  {
   "cell_type": "code",
   "execution_count": 1,
   "id": "b252a0b3",
   "metadata": {},
   "outputs": [
    {
     "name": "stdout",
     "output_type": "stream",
     "text": [
      "Python 버전: 3.8.11 (default, Aug  6 2021, 09:57:55) [MSC v.1916 64 bit (AMD64)]\n",
      "pandas 버전: 1.3.2\n",
      "matplotlib 버전: 3.4.3\n",
      "NumPy 버전: 1.21.2\n",
      "SciPy 버전: 1.7.1\n",
      "IPython 버전: 7.26.0\n",
      "scikit-learn 버전: 1.0.1\n"
     ]
    }
   ],
   "source": [
    "import sys\n",
    "print(\"Python 버전:\", sys.version)\n",
    "\n",
    "import pandas as pd\n",
    "print(\"pandas 버전:\", pd.__version__)\n",
    "\n",
    "import matplotlib\n",
    "print(\"matplotlib 버전:\", matplotlib.__version__)\n",
    "\n",
    "import numpy as np\n",
    "print(\"NumPy 버전:\", np.__version__)\n",
    "\n",
    "import scipy as sp\n",
    "print(\"SciPy 버전:\", sp.__version__)\n",
    "\n",
    "import IPython\n",
    "print(\"IPython 버전:\", IPython.__version__)\n",
    "\n",
    "import sklearn\n",
    "print(\"scikit-learn 버전:\", sklearn.__version__)"
   ]
  },
  {
   "cell_type": "code",
   "execution_count": 2,
   "id": "32c83509",
   "metadata": {},
   "outputs": [
    {
     "name": "stdout",
     "output_type": "stream",
     "text": [
      "Requirement already satisfied: mglearn in c:\\anaconda3\\envs\\practice\\lib\\site-packages (0.1.9)\n",
      "Requirement already satisfied: pillow in c:\\anaconda3\\envs\\practice\\lib\\site-packages (from mglearn) (8.4.0)\n",
      "Requirement already satisfied: numpy in c:\\anaconda3\\envs\\practice\\lib\\site-packages (from mglearn) (1.21.2)\n",
      "Requirement already satisfied: joblib in c:\\anaconda3\\envs\\practice\\lib\\site-packages (from mglearn) (1.1.0)\n",
      "Requirement already satisfied: cycler in c:\\anaconda3\\envs\\practice\\lib\\site-packages (from mglearn) (0.10.0)\n",
      "Requirement already satisfied: pandas in c:\\anaconda3\\envs\\practice\\lib\\site-packages (from mglearn) (1.3.2)\n",
      "Requirement already satisfied: matplotlib in c:\\anaconda3\\envs\\practice\\lib\\site-packages (from mglearn) (3.4.3)\n",
      "Requirement already satisfied: imageio in c:\\anaconda3\\envs\\practice\\lib\\site-packages (from mglearn) (2.14.0)\n",
      "Requirement already satisfied: scikit-learn in c:\\anaconda3\\envs\\practice\\lib\\site-packages (from mglearn) (1.0.1)\n",
      "Requirement already satisfied: six in c:\\anaconda3\\envs\\practice\\lib\\site-packages (from cycler->mglearn) (1.16.0)\n",
      "Requirement already satisfied: pyparsing>=2.2.1 in c:\\anaconda3\\envs\\practice\\lib\\site-packages (from matplotlib->mglearn) (2.4.7)\n",
      "Requirement already satisfied: kiwisolver>=1.0.1 in c:\\anaconda3\\envs\\practice\\lib\\site-packages (from matplotlib->mglearn) (1.3.2)\n",
      "Requirement already satisfied: python-dateutil>=2.7 in c:\\anaconda3\\envs\\practice\\lib\\site-packages (from matplotlib->mglearn) (2.8.2)\n",
      "Requirement already satisfied: pytz>=2017.3 in c:\\anaconda3\\envs\\practice\\lib\\site-packages (from pandas->mglearn) (2021.1)\n",
      "Requirement already satisfied: threadpoolctl>=2.0.0 in c:\\anaconda3\\envs\\practice\\lib\\site-packages (from scikit-learn->mglearn) (3.0.0)\n",
      "Requirement already satisfied: scipy>=1.1.0 in c:\\anaconda3\\envs\\practice\\lib\\site-packages (from scikit-learn->mglearn) (1.7.1)\n"
     ]
    }
   ],
   "source": [
    "!pip install mglearn"
   ]
  },
  {
   "cell_type": "markdown",
   "id": "133d27dd",
   "metadata": {},
   "source": [
    "# 필요 라이브러리 import"
   ]
  },
  {
   "cell_type": "code",
   "execution_count": 5,
   "id": "748eda0a",
   "metadata": {},
   "outputs": [],
   "source": [
    "from IPython.display import display\n",
    "import numpy as np\n",
    "import pandas as pd\n",
    "import matplotlib.pyplot as plt\n",
    "import mglearn"
   ]
  }
 ],
 "metadata": {
  "kernelspec": {
   "display_name": "practice",
   "language": "python",
   "name": "practice"
  },
  "language_info": {
   "codemirror_mode": {
    "name": "ipython",
    "version": 3
   },
   "file_extension": ".py",
   "mimetype": "text/x-python",
   "name": "python",
   "nbconvert_exporter": "python",
   "pygments_lexer": "ipython3",
   "version": "3.8.11"
  }
 },
 "nbformat": 4,
 "nbformat_minor": 5
}
